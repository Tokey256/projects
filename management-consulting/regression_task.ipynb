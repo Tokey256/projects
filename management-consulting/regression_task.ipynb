{
 "cells": [
  {
   "cell_type": "code",
   "execution_count": 1,
   "metadata": {},
   "outputs": [],
   "source": [
    "import pandas as pd"
   ]
  },
  {
   "cell_type": "code",
   "execution_count": 2,
   "metadata": {},
   "outputs": [],
   "source": [
    "df = pd.read_excel('dataset_renamed.xlsx')"
   ]
  },
  {
   "cell_type": "code",
   "execution_count": 3,
   "metadata": {},
   "outputs": [
    {
     "name": "stdout",
     "output_type": "stream",
     "text": [
      "id                                                                    0.000000\n",
      "target                                                               10.204082\n",
      "Расстояние до метро                                                   0.000000\n",
      "Суммарное кол-во отзывов в категории \"АЗС\" в радиусе 150м             0.000000\n",
      "Суммарное кол-во отзывов в категории \"Алкомаркеты\" в радиусе 150м     0.000000\n",
      "                                                                       ...    \n",
      "Суммарный  трафик юзеров рабочих в радиусе 140м                       0.000000\n",
      "Тип БЦ                                                                0.000000\n",
      "Тип хаб                                                               0.000000\n",
      "Тип улица                                                             0.000000\n",
      "Тип ТЦ                                                                0.000000\n",
      "Length: 2335, dtype: float64\n"
     ]
    }
   ],
   "source": [
    "print(df.isnull().mean() * 100)"
   ]
  },
  {
   "cell_type": "code",
   "execution_count": 4,
   "metadata": {},
   "outputs": [
    {
     "name": "stdout",
     "output_type": "stream",
     "text": [
      "id                                                                    0.000000\n",
      "target                                                               10.204082\n",
      "Расстояние до метро                                                   0.000000\n",
      "Суммарное кол-во отзывов в категории \"АЗС\" в радиусе 150м             0.000000\n",
      "Суммарное кол-во отзывов в категории \"Алкомаркеты\" в радиусе 150м     0.000000\n",
      "                                                                       ...    \n",
      "Суммарный  трафик юзеров рабочих в радиусе 140м                       0.000000\n",
      "Тип БЦ                                                                0.000000\n",
      "Тип хаб                                                               0.000000\n",
      "Тип улица                                                             0.000000\n",
      "Тип ТЦ                                                                0.000000\n",
      "Length: 2335, dtype: float64\n"
     ]
    }
   ],
   "source": [
    "print(df.isnull().mean() * 100)"
   ]
  }
 ],
 "metadata": {
  "interpreter": {
   "hash": "f87fde2320060d2900fddac7da54e7374722de106bfdb09feff620760be7bc48"
  },
  "kernelspec": {
   "display_name": "Python 3.10.2 64-bit",
   "language": "python",
   "name": "python3"
  },
  "language_info": {
   "codemirror_mode": {
    "name": "ipython",
    "version": 3
   },
   "file_extension": ".py",
   "mimetype": "text/x-python",
   "name": "python",
   "nbconvert_exporter": "python",
   "pygments_lexer": "ipython3",
   "version": "3.10.2"
  },
  "orig_nbformat": 4
 },
 "nbformat": 4,
 "nbformat_minor": 2
}
